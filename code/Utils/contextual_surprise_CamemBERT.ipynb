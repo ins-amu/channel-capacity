{
 "cells": [
  {
   "cell_type": "code",
   "execution_count": 5,
   "metadata": {},
   "outputs": [],
   "source": [
    "import torch\n",
    "from transformers.modeling_camembert import CamembertForMaskedLM\n",
    "from transformers.tokenization_camembert import CamembertTokenizer\n",
    "import numpy as np"
   ]
  },
  {
   "cell_type": "code",
   "execution_count": 2,
   "metadata": {},
   "outputs": [
    {
     "name": "stderr",
     "output_type": "stream",
     "text": [
      "Some weights of CamembertForMaskedLM were not initialized from the model checkpoint at camembert-base and are newly initialized: ['lm_head.decoder.bias']\n",
      "You should probably TRAIN this model on a down-stream task to be able to use it for predictions and inference.\n"
     ]
    }
   ],
   "source": [
    "# CamemBERT-base model & tokenizer\n",
    "tokenizer = CamembertTokenizer.from_pretrained(\"camembert-base\")\n",
    "model = CamembertForMaskedLM.from_pretrained(\"camembert-base\")"
   ]
  },
  {
   "cell_type": "code",
   "execution_count": 15,
   "metadata": {},
   "outputs": [],
   "source": [
    "def ComputeContextualSurprise(list_fname= None,output_name = None, model = None,mask=None, tokenizer= None, topk=None):\n",
    "    sentence_file = open(list_fname,'r', encoding='utf-8')\n",
    "    output_fname = \"/home/jeremy/Desktop/\"+ output_name+\".csv\"\n",
    "    output_file = open(output_fname,'w')\n",
    "    sentences = sentence_file.readlines()\n",
    "    for s in sentences:\n",
    "        split_input = s.split(\" \")\n",
    "        Target_outputs = []\n",
    "        sentence_score = 0;\n",
    "        nbwords = 0;\n",
    "        for i,w in enumerate(s.split(\" \")):\n",
    "            target_token = w\n",
    "            nbwords = nbwords + 1\n",
    "            masked_input = split_input.copy()\n",
    "            masked_input[i] = mask\n",
    "            masked_input = \" \".join(masked_input)\n",
    "            assert masked_input.count(mask) == 1\n",
    "            input_ids = torch.tensor(tokenizer.encode(masked_input, add_special_tokens=True)).unsqueeze(0)  # Batch size 1\n",
    "            logits = model(input_ids)[0] #[:, 0, :] # The last hidden-state is the first element of the output tuple\n",
    "            masked_index = (input_ids.squeeze() == tokenizer.mask_token_id).nonzero().item()\n",
    "            logits = logits[0, masked_index, :]\n",
    "            prob = logits.softmax(dim=0)\n",
    "            values, indices = prob.topk(k=topk, dim=0)\n",
    "            topk_predicted_token_bpe = \" \".join(\n",
    "                [tokenizer.convert_ids_to_tokens(indices[i].item()) for i in range(len(indices))]\n",
    "            )\n",
    "            masked_token = tokenizer.mask_token\n",
    "            for index, predicted_token_bpe in enumerate(topk_predicted_token_bpe.split(\" \")):\n",
    "                predicted_token = predicted_token_bpe.replace(\"\\u2581\", \" \")\n",
    "                if (predicted_token.casefold().strip() == target_token.casefold().strip()):\n",
    "                    sentence_score = sentence_score +  (-np.log2(values[index].item()))\n",
    "                    Target_outputs.append(\n",
    "                        (\n",
    "                            values[index].item(),\n",
    "                            predicted_token,\n",
    "                        )\n",
    "                    )\n",
    "        output_file.write(str(sentence_score/nbwords)+\"\\t\"+ str(sentence_score) + \"\\n\")\n",
    "    sentence_file.close()\n",
    "    output_file.close()\n",
    "    print(output_name + ' Done !')\n",
    "    return 0              "
   ]
  },
  {
   "cell_type": "code",
   "execution_count": 16,
   "metadata": {},
   "outputs": [
    {
     "name": "stdout",
     "output_type": "stream",
     "text": [
      "CamemBERTfinal Done !\n"
     ]
    },
    {
     "data": {
      "text/plain": [
       "0"
      ]
     },
     "execution_count": 16,
     "metadata": {},
     "output_type": "execute_result"
    }
   ],
   "source": [
    "ComputeContextualSurprise(list_fname=\"/home/jeremy/Downloads/LM/list.txt\",output_name = \"CamemBERTfinal\",model = model,mask='<mask>', tokenizer= tokenizer, topk=3000)"
   ]
  },
  {
   "cell_type": "code",
   "execution_count": null,
   "metadata": {},
   "outputs": [],
   "source": [
    "# Adapted from https://camembert-model.fr/"
   ]
  }
 ],
 "metadata": {
  "kernelspec": {
   "display_name": "Python 3 (ipykernel)",
   "language": "python",
   "name": "python3"
  },
  "language_info": {
   "codemirror_mode": {
    "name": "ipython",
    "version": 3
   },
   "file_extension": ".py",
   "mimetype": "text/x-python",
   "name": "python",
   "nbconvert_exporter": "python",
   "pygments_lexer": "ipython3",
   "version": "3.8.8"
  }
 },
 "nbformat": 4,
 "nbformat_minor": 4
}
